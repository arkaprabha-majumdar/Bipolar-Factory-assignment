{
  "nbformat": 4,
  "nbformat_minor": 0,
  "metadata": {
    "colab": {
      "name": "Sentiment analysis.ipynb",
      "provenance": [],
      "collapsed_sections": []
    },
    "kernelspec": {
      "name": "python3",
      "display_name": "Python 3"
    }
  },
  "cells": [
    {
      "cell_type": "code",
      "metadata": {
        "id": "zzBeG5ATe9kj",
        "colab_type": "code",
        "colab": {
          "base_uri": "https://localhost:8080/",
          "height": 124
        },
        "outputId": "bed33647-e62e-4c90-b9f8-6938a31d667a"
      },
      "source": [
        "import numpy as np\n",
        "import pandas as pd\n",
        "from google.colab import drive\n",
        "drive.mount('/content/drive') "
      ],
      "execution_count": 1,
      "outputs": [
        {
          "output_type": "stream",
          "text": [
            "Go to this URL in a browser: https://accounts.google.com/o/oauth2/auth?client_id=947318989803-6bn6qk8qdgf4n4g3pfee6491hc0brc4i.apps.googleusercontent.com&redirect_uri=urn%3aietf%3awg%3aoauth%3a2.0%3aoob&response_type=code&scope=email%20https%3a%2f%2fwww.googleapis.com%2fauth%2fdocs.test%20https%3a%2f%2fwww.googleapis.com%2fauth%2fdrive%20https%3a%2f%2fwww.googleapis.com%2fauth%2fdrive.photos.readonly%20https%3a%2f%2fwww.googleapis.com%2fauth%2fpeopleapi.readonly\n",
            "\n",
            "Enter your authorization code:\n",
            "··········\n",
            "Mounted at /content/drive\n"
          ],
          "name": "stdout"
        }
      ]
    },
    {
      "cell_type": "code",
      "metadata": {
        "id": "68fG29JSfDxo",
        "colab_type": "code",
        "colab": {
          "base_uri": "https://localhost:8080/",
          "height": 34
        },
        "outputId": "d8894c1d-157a-47de-ef59-133e432e7447"
      },
      "source": [
        "%cd drive/My Drive/Colab Notebooks/"
      ],
      "execution_count": 2,
      "outputs": [
        {
          "output_type": "stream",
          "text": [
            "/content/drive/My Drive/Colab Notebooks\n"
          ],
          "name": "stdout"
        }
      ]
    },
    {
      "cell_type": "code",
      "metadata": {
        "id": "_ueiFeUkfTrQ",
        "colab_type": "code",
        "colab": {}
      },
      "source": [
        "df1=pd.read_csv(\"art_1.csv\").set_index('Unnamed: 0')\n",
        "df2=pd.read_csv(\"art_2.csv\").set_index('Unnamed: 0')"
      ],
      "execution_count": 0,
      "outputs": []
    },
    {
      "cell_type": "code",
      "metadata": {
        "id": "-d012gHZfh0e",
        "colab_type": "code",
        "colab": {}
      },
      "source": [
        "news_data=pd.concat([df1,df2]).drop(columns=['date']).reset_index(drop=True)"
      ],
      "execution_count": 0,
      "outputs": []
    },
    {
      "cell_type": "code",
      "metadata": {
        "id": "x_91cvwtfjKK",
        "colab_type": "code",
        "colab": {
          "base_uri": "https://localhost:8080/",
          "height": 416
        },
        "outputId": "241cd8eb-3761-439b-a9c3-9a36ace2e8b5"
      },
      "source": [
        "news_data"
      ],
      "execution_count": 163,
      "outputs": [
        {
          "output_type": "execute_result",
          "data": {
            "text/html": [
              "<div>\n",
              "<style scoped>\n",
              "    .dataframe tbody tr th:only-of-type {\n",
              "        vertical-align: middle;\n",
              "    }\n",
              "\n",
              "    .dataframe tbody tr th {\n",
              "        vertical-align: top;\n",
              "    }\n",
              "\n",
              "    .dataframe thead th {\n",
              "        text-align: right;\n",
              "    }\n",
              "</style>\n",
              "<table border=\"1\" class=\"dataframe\">\n",
              "  <thead>\n",
              "    <tr style=\"text-align: right;\">\n",
              "      <th></th>\n",
              "      <th>description</th>\n",
              "      <th>text</th>\n",
              "    </tr>\n",
              "  </thead>\n",
              "  <tbody>\n",
              "    <tr>\n",
              "      <th>0</th>\n",
              "      <td>Stores offer coronavirus hours for seniors, at...</td>\n",
              "      <td>Get all the latest news on coronavirus and mor...</td>\n",
              "    </tr>\n",
              "    <tr>\n",
              "      <th>1</th>\n",
              "      <td>Why male business leaders use Botox, youth-ind...</td>\n",
              "      <td>Powerful industry leaders are relying on nonin...</td>\n",
              "    </tr>\n",
              "    <tr>\n",
              "      <th>2</th>\n",
              "      <td>US GDP expected to fall 12%, federal deficit t...</td>\n",
              "      <td>The United States' gross domestic product is e...</td>\n",
              "    </tr>\n",
              "    <tr>\n",
              "      <th>3</th>\n",
              "      <td>How coronavirus could damage Social Security</td>\n",
              "      <td>Get all the latest news on coronavirus and mor...</td>\n",
              "    </tr>\n",
              "    <tr>\n",
              "      <th>4</th>\n",
              "      <td>Boeing ends deal, angering Brazilian jet maker...</td>\n",
              "      <td>CHICAGO — Boeing announced Saturday it termina...</td>\n",
              "    </tr>\n",
              "    <tr>\n",
              "      <th>...</th>\n",
              "      <td>...</td>\n",
              "      <td>...</td>\n",
              "    </tr>\n",
              "    <tr>\n",
              "      <th>5124</th>\n",
              "      <td>COVID-19 survivor State Rep. Karen Whitsett de...</td>\n",
              "      <td>Get all the latest news on coronavirus and mor...</td>\n",
              "    </tr>\n",
              "    <tr>\n",
              "      <th>5125</th>\n",
              "      <td>'Tiger King': Lawyer for Carole Baskin's missi...</td>\n",
              "      <td>An attorney for the missing husband of \"Tiger ...</td>\n",
              "    </tr>\n",
              "    <tr>\n",
              "      <th>5126</th>\n",
              "      <td>Former Nevada attorney general says MI Gov. Wh...</td>\n",
              "      <td>Get all the latest news on coronavirus and mor...</td>\n",
              "    </tr>\n",
              "    <tr>\n",
              "      <th>5127</th>\n",
              "      <td>Former Rep. Corinne Brown released from prison...</td>\n",
              "      <td>Get all the latest news on coronavirus and mor...</td>\n",
              "    </tr>\n",
              "    <tr>\n",
              "      <th>5128</th>\n",
              "      <td>Murders in NYC surge for second week in a row ...</td>\n",
              "      <td>Get all the latest news on coronavirus and mor...</td>\n",
              "    </tr>\n",
              "  </tbody>\n",
              "</table>\n",
              "<p>5129 rows × 2 columns</p>\n",
              "</div>"
            ],
            "text/plain": [
              "                                            description                                               text\n",
              "0     Stores offer coronavirus hours for seniors, at...  Get all the latest news on coronavirus and mor...\n",
              "1     Why male business leaders use Botox, youth-ind...  Powerful industry leaders are relying on nonin...\n",
              "2     US GDP expected to fall 12%, federal deficit t...  The United States' gross domestic product is e...\n",
              "3          How coronavirus could damage Social Security  Get all the latest news on coronavirus and mor...\n",
              "4     Boeing ends deal, angering Brazilian jet maker...  CHICAGO — Boeing announced Saturday it termina...\n",
              "...                                                 ...                                                ...\n",
              "5124  COVID-19 survivor State Rep. Karen Whitsett de...  Get all the latest news on coronavirus and mor...\n",
              "5125  'Tiger King': Lawyer for Carole Baskin's missi...  An attorney for the missing husband of \"Tiger ...\n",
              "5126  Former Nevada attorney general says MI Gov. Wh...  Get all the latest news on coronavirus and mor...\n",
              "5127  Former Rep. Corinne Brown released from prison...  Get all the latest news on coronavirus and mor...\n",
              "5128  Murders in NYC surge for second week in a row ...  Get all the latest news on coronavirus and mor...\n",
              "\n",
              "[5129 rows x 2 columns]"
            ]
          },
          "metadata": {
            "tags": []
          },
          "execution_count": 163
        }
      ]
    },
    {
      "cell_type": "code",
      "metadata": {
        "id": "v2YL3jSZjJ4-",
        "colab_type": "code",
        "colab": {}
      },
      "source": [
        "list_articles=[]\n",
        "for i in range(len(news_data)):\n",
        "    list_articles.append(str(news_data['description'][i])+\"  \"+str(news_data['text'][i]))"
      ],
      "execution_count": 0,
      "outputs": []
    },
    {
      "cell_type": "code",
      "metadata": {
        "id": "bCQGV81pggS0",
        "colab_type": "code",
        "colab": {
          "base_uri": "https://localhost:8080/",
          "height": 34
        },
        "outputId": "5c5f671d-3117-431b-d00c-7cff57f025db"
      },
      "source": [
        "!pip install vaderSentiment #library for sentiment analysis"
      ],
      "execution_count": 165,
      "outputs": [
        {
          "output_type": "stream",
          "text": [
            "Requirement already satisfied: vaderSentiment in /usr/local/lib/python3.6/dist-packages (3.3.1)\n"
          ],
          "name": "stdout"
        }
      ]
    },
    {
      "cell_type": "code",
      "metadata": {
        "id": "46FuLDTqk8sm",
        "colab_type": "code",
        "colab": {}
      },
      "source": [
        "import operator\n",
        "from vaderSentiment.vaderSentiment import SentimentIntensityAnalyzer\n",
        "analyzer = SentimentIntensityAnalyzer()"
      ],
      "execution_count": 0,
      "outputs": []
    },
    {
      "cell_type": "code",
      "metadata": {
        "id": "a9xu3DAQre9I",
        "colab_type": "code",
        "colab": {
          "base_uri": "https://localhost:8080/",
          "height": 34
        },
        "outputId": "6d1be47d-4032-49b6-9276-0276df475ae7"
      },
      "source": [
        "emote_list=[]\n",
        "vs=[]\n",
        "for sentence in list_articles:\n",
        "    vs.append(analyzer.polarity_scores(sentence))\n",
        "print('loading...')\n",
        "vs=[{k: v for k, v in d.items() if k != 'compound'} for d in vs]"
      ],
      "execution_count": 167,
      "outputs": [
        {
          "output_type": "stream",
          "text": [
            "loading...\n"
          ],
          "name": "stdout"
        }
      ]
    },
    {
      "cell_type": "code",
      "metadata": {
        "id": "pKMBLR1Lup6B",
        "colab_type": "code",
        "colab": {}
      },
      "source": [
        "for item in vs:\n",
        "    if item['neg']<0.2:\n",
        "        if item['pos']<0.2:\n",
        "            emote_list.append('neu')\n",
        "        else:\n",
        "             emote_list.append('pos')\n",
        "    else:\n",
        "        if item['pos']>0.2:\n",
        "            emote_list.append('neu')\n",
        "        else:\n",
        "            emote_list.append('neg')"
      ],
      "execution_count": 0,
      "outputs": []
    },
    {
      "cell_type": "code",
      "metadata": {
        "id": "cLPu9NiqlByu",
        "colab_type": "code",
        "colab": {}
      },
      "source": [
        "news_data['emotion']=emote_list"
      ],
      "execution_count": 0,
      "outputs": []
    },
    {
      "cell_type": "code",
      "metadata": {
        "id": "ffzrOKTB7l2h",
        "colab_type": "code",
        "colab": {
          "base_uri": "https://localhost:8080/",
          "height": 416
        },
        "outputId": "3957c4ee-2637-4d26-b837-873c6ddeff24"
      },
      "source": [
        "news_data[news_data['emotion']=='pos']"
      ],
      "execution_count": 170,
      "outputs": [
        {
          "output_type": "execute_result",
          "data": {
            "text/html": [
              "<div>\n",
              "<style scoped>\n",
              "    .dataframe tbody tr th:only-of-type {\n",
              "        vertical-align: middle;\n",
              "    }\n",
              "\n",
              "    .dataframe tbody tr th {\n",
              "        vertical-align: top;\n",
              "    }\n",
              "\n",
              "    .dataframe thead th {\n",
              "        text-align: right;\n",
              "    }\n",
              "</style>\n",
              "<table border=\"1\" class=\"dataframe\">\n",
              "  <thead>\n",
              "    <tr style=\"text-align: right;\">\n",
              "      <th></th>\n",
              "      <th>description</th>\n",
              "      <th>text</th>\n",
              "      <th>emotion</th>\n",
              "    </tr>\n",
              "  </thead>\n",
              "  <tbody>\n",
              "    <tr>\n",
              "      <th>41</th>\n",
              "      <td>Bud Light helps raise coronavirus relief effor...</td>\n",
              "      <td>NaN</td>\n",
              "      <td>pos</td>\n",
              "    </tr>\n",
              "    <tr>\n",
              "      <th>209</th>\n",
              "      <td>Bud Light helps raise coronavirus relief effor...</td>\n",
              "      <td>NaN</td>\n",
              "      <td>pos</td>\n",
              "    </tr>\n",
              "    <tr>\n",
              "      <th>349</th>\n",
              "      <td>Is there a process for licensing content?</td>\n",
              "      <td>To license footage, please reach out to Archiv...</td>\n",
              "      <td>pos</td>\n",
              "    </tr>\n",
              "    <tr>\n",
              "      <th>355</th>\n",
              "      <td>Sen. Kennedy: Early Virus Models Made Late Nig...</td>\n",
              "      <td>Louisiana Senator John Kennedy called in to th...</td>\n",
              "      <td>pos</td>\n",
              "    </tr>\n",
              "    <tr>\n",
              "      <th>424</th>\n",
              "      <td>Bud Light helps raise coronavirus relief effor...</td>\n",
              "      <td>NaN</td>\n",
              "      <td>pos</td>\n",
              "    </tr>\n",
              "    <tr>\n",
              "      <th>...</th>\n",
              "      <td>...</td>\n",
              "      <td>...</td>\n",
              "      <td>...</td>\n",
              "    </tr>\n",
              "    <tr>\n",
              "      <th>5104</th>\n",
              "      <td>Georgia state senator's 'second chance at life...</td>\n",
              "      <td>Get all the latest news on coronavirus and mor...</td>\n",
              "      <td>pos</td>\n",
              "    </tr>\n",
              "    <tr>\n",
              "      <th>5112</th>\n",
              "      <td>Global movement to pray for health care worker...</td>\n",
              "      <td>Get all the latest news on coronavirus and mor...</td>\n",
              "      <td>pos</td>\n",
              "    </tr>\n",
              "    <tr>\n",
              "      <th>5114</th>\n",
              "      <td>Georgia state senator's 'second chance at life...</td>\n",
              "      <td>Get all the latest news on coronavirus and mor...</td>\n",
              "      <td>pos</td>\n",
              "    </tr>\n",
              "    <tr>\n",
              "      <th>5115</th>\n",
              "      <td>Justice with Judge Jeanine - Saturday, April 25</td>\n",
              "      <td>NaN</td>\n",
              "      <td>pos</td>\n",
              "    </tr>\n",
              "    <tr>\n",
              "      <th>5118</th>\n",
              "      <td>Martina McBride mourns mother in loving Instag...</td>\n",
              "      <td>It's been a rough few days for Martina McBride...</td>\n",
              "      <td>pos</td>\n",
              "    </tr>\n",
              "  </tbody>\n",
              "</table>\n",
              "<p>91 rows × 3 columns</p>\n",
              "</div>"
            ],
            "text/plain": [
              "                                            description  ... emotion\n",
              "41    Bud Light helps raise coronavirus relief effor...  ...     pos\n",
              "209   Bud Light helps raise coronavirus relief effor...  ...     pos\n",
              "349           Is there a process for licensing content?  ...     pos\n",
              "355   Sen. Kennedy: Early Virus Models Made Late Nig...  ...     pos\n",
              "424   Bud Light helps raise coronavirus relief effor...  ...     pos\n",
              "...                                                 ...  ...     ...\n",
              "5104  Georgia state senator's 'second chance at life...  ...     pos\n",
              "5112  Global movement to pray for health care worker...  ...     pos\n",
              "5114  Georgia state senator's 'second chance at life...  ...     pos\n",
              "5115    Justice with Judge Jeanine - Saturday, April 25  ...     pos\n",
              "5118  Martina McBride mourns mother in loving Instag...  ...     pos\n",
              "\n",
              "[91 rows x 3 columns]"
            ]
          },
          "metadata": {
            "tags": []
          },
          "execution_count": 170
        }
      ]
    },
    {
      "cell_type": "code",
      "metadata": {
        "id": "vKnQxWS875K_",
        "colab_type": "code",
        "colab": {}
      },
      "source": [
        "from collections import Counter\n",
        "from imblearn.over_sampling import SMOTE\n",
        "\n",
        "X_train=news_data.iloc[:,:2]\n",
        "y_train=news_data['emotion']"
      ],
      "execution_count": 0,
      "outputs": []
    },
    {
      "cell_type": "code",
      "metadata": {
        "id": "yocUdr4gD_ck",
        "colab_type": "code",
        "colab": {}
      },
      "source": [
        "from sklearn.feature_extraction.text import CountVectorizer\n",
        "from sklearn import preprocessing\n",
        "count_vect = CountVectorizer()\n",
        "le = preprocessing.LabelEncoder()\n",
        "X_train_counts = count_vect.fit_transform(list_articles)\n",
        "le.fit(y_train)\n",
        "y_train=le.transform(y_train)\n",
        "labels=le.classes_"
      ],
      "execution_count": 0,
      "outputs": []
    },
    {
      "cell_type": "code",
      "metadata": {
        "id": "b5JkenJAUuZt",
        "colab_type": "code",
        "colab": {
          "base_uri": "https://localhost:8080/",
          "height": 34
        },
        "outputId": "f7626e12-dace-4916-de8f-fcf8ec4078c3"
      },
      "source": [
        "y_train"
      ],
      "execution_count": 173,
      "outputs": [
        {
          "output_type": "execute_result",
          "data": {
            "text/plain": [
              "array([1, 1, 1, ..., 1, 1, 1])"
            ]
          },
          "metadata": {
            "tags": []
          },
          "execution_count": 173
        }
      ]
    },
    {
      "cell_type": "code",
      "metadata": {
        "id": "0wnCWY8i-F4I",
        "colab_type": "code",
        "colab": {}
      },
      "source": [
        "from sklearn.neural_network import MLPClassifier\n",
        "df3=pd.read_csv(\"art_3.csv\").set_index('Unnamed: 0').drop(columns=['date'])\n",
        "articles_df3=[]\n",
        "for i in range(len(df3)):\n",
        "    articles_df3.append(str(df3['description'][i])+\"  \"+str(df3['text'][i]))"
      ],
      "execution_count": 0,
      "outputs": []
    },
    {
      "cell_type": "code",
      "metadata": {
        "id": "hG9JDS3h-jlA",
        "colab_type": "code",
        "colab": {}
      },
      "source": [
        "X_test_counts = count_vect.transform(articles_df3)\n",
        "model = MLPClassifier().fit(X_train_counts, y_train)\n",
        "y_pred = model.predict(X_test_counts)"
      ],
      "execution_count": 0,
      "outputs": []
    },
    {
      "cell_type": "code",
      "metadata": {
        "id": "mroy7usjtIvC",
        "colab_type": "code",
        "colab": {
          "base_uri": "https://localhost:8080/",
          "height": 52
        },
        "outputId": "ee0c4ac3-3cb0-4e0a-c38b-0d6f1b63b537"
      },
      "source": [
        "X_train_counts"
      ],
      "execution_count": 145,
      "outputs": [
        {
          "output_type": "execute_result",
          "data": {
            "text/plain": [
              "<5129x12850 sparse matrix of type '<class 'numpy.int64'>'\n",
              "\twith 1197017 stored elements in Compressed Sparse Row format>"
            ]
          },
          "metadata": {
            "tags": []
          },
          "execution_count": 145
        }
      ]
    },
    {
      "cell_type": "code",
      "metadata": {
        "id": "iHsKhvTTubMz",
        "colab_type": "code",
        "colab": {
          "base_uri": "https://localhost:8080/",
          "height": 52
        },
        "outputId": "305cc105-7bb9-435b-c366-104c12457edd"
      },
      "source": [
        "X_test_counts"
      ],
      "execution_count": 146,
      "outputs": [
        {
          "output_type": "execute_result",
          "data": {
            "text/plain": [
              "<1520x12850 sparse matrix of type '<class 'numpy.int64'>'\n",
              "\twith 366931 stored elements in Compressed Sparse Row format>"
            ]
          },
          "metadata": {
            "tags": []
          },
          "execution_count": 146
        }
      ]
    },
    {
      "cell_type": "code",
      "metadata": {
        "id": "EXmkPBMXw5y1",
        "colab_type": "code",
        "colab": {
          "base_uri": "https://localhost:8080/",
          "height": 446
        },
        "outputId": "b83a7337-29b7-4fcc-927d-701127c19984"
      },
      "source": [
        "df3['pred']=y_pred\n",
        "df3"
      ],
      "execution_count": 148,
      "outputs": [
        {
          "output_type": "execute_result",
          "data": {
            "text/html": [
              "<div>\n",
              "<style scoped>\n",
              "    .dataframe tbody tr th:only-of-type {\n",
              "        vertical-align: middle;\n",
              "    }\n",
              "\n",
              "    .dataframe tbody tr th {\n",
              "        vertical-align: top;\n",
              "    }\n",
              "\n",
              "    .dataframe thead th {\n",
              "        text-align: right;\n",
              "    }\n",
              "</style>\n",
              "<table border=\"1\" class=\"dataframe\">\n",
              "  <thead>\n",
              "    <tr style=\"text-align: right;\">\n",
              "      <th></th>\n",
              "      <th>description</th>\n",
              "      <th>text</th>\n",
              "      <th>pred</th>\n",
              "    </tr>\n",
              "    <tr>\n",
              "      <th>Unnamed: 0</th>\n",
              "      <th></th>\n",
              "      <th></th>\n",
              "      <th></th>\n",
              "    </tr>\n",
              "  </thead>\n",
              "  <tbody>\n",
              "    <tr>\n",
              "      <th>0</th>\n",
              "      <td>Outnumbered Overtime</td>\n",
              "      <td>Capitalizing on the strength of Outnumbered, H...</td>\n",
              "      <td>1</td>\n",
              "    </tr>\n",
              "    <tr>\n",
              "      <th>1</th>\n",
              "      <td>Sunday Morning Futures</td>\n",
              "      <td>Follow Maria Bartiromo as she brings big busin...</td>\n",
              "      <td>1</td>\n",
              "    </tr>\n",
              "    <tr>\n",
              "      <th>2</th>\n",
              "      <td>The Next Revolution</td>\n",
              "      <td>The Next Revolution with Steve Hilton focuses ...</td>\n",
              "      <td>1</td>\n",
              "    </tr>\n",
              "    <tr>\n",
              "      <th>3</th>\n",
              "      <td>Outnumbered Overtime</td>\n",
              "      <td>Capitalizing on the strength of Outnumbered, H...</td>\n",
              "      <td>1</td>\n",
              "    </tr>\n",
              "    <tr>\n",
              "      <th>4</th>\n",
              "      <td>Sunday Morning Futures</td>\n",
              "      <td>Follow Maria Bartiromo as she brings big busin...</td>\n",
              "      <td>1</td>\n",
              "    </tr>\n",
              "    <tr>\n",
              "      <th>...</th>\n",
              "      <td>...</td>\n",
              "      <td>...</td>\n",
              "      <td>...</td>\n",
              "    </tr>\n",
              "    <tr>\n",
              "      <th>1515</th>\n",
              "      <td>COVID-19 survivor State Rep. Karen Whitsett de...</td>\n",
              "      <td>Get all the latest news on coronavirus and mor...</td>\n",
              "      <td>1</td>\n",
              "    </tr>\n",
              "    <tr>\n",
              "      <th>1516</th>\n",
              "      <td>'Tiger King': Lawyer for Carole Baskin's missi...</td>\n",
              "      <td>An attorney for the missing husband of \"Tiger ...</td>\n",
              "      <td>1</td>\n",
              "    </tr>\n",
              "    <tr>\n",
              "      <th>1517</th>\n",
              "      <td>Former Nevada attorney general says MI Gov. Wh...</td>\n",
              "      <td>Get all the latest news on coronavirus and mor...</td>\n",
              "      <td>1</td>\n",
              "    </tr>\n",
              "    <tr>\n",
              "      <th>1518</th>\n",
              "      <td>Former Rep. Corinne Brown released from prison...</td>\n",
              "      <td>Get all the latest news on coronavirus and mor...</td>\n",
              "      <td>1</td>\n",
              "    </tr>\n",
              "    <tr>\n",
              "      <th>1519</th>\n",
              "      <td>Murders in NYC surge for second week in a row ...</td>\n",
              "      <td>Get all the latest news on coronavirus and mor...</td>\n",
              "      <td>1</td>\n",
              "    </tr>\n",
              "  </tbody>\n",
              "</table>\n",
              "<p>1520 rows × 3 columns</p>\n",
              "</div>"
            ],
            "text/plain": [
              "                                                  description  ... pred\n",
              "Unnamed: 0                                                     ...     \n",
              "0                                        Outnumbered Overtime  ...    1\n",
              "1                                      Sunday Morning Futures  ...    1\n",
              "2                                         The Next Revolution  ...    1\n",
              "3                                        Outnumbered Overtime  ...    1\n",
              "4                                      Sunday Morning Futures  ...    1\n",
              "...                                                       ...  ...  ...\n",
              "1515        COVID-19 survivor State Rep. Karen Whitsett de...  ...    1\n",
              "1516        'Tiger King': Lawyer for Carole Baskin's missi...  ...    1\n",
              "1517        Former Nevada attorney general says MI Gov. Wh...  ...    1\n",
              "1518        Former Rep. Corinne Brown released from prison...  ...    1\n",
              "1519        Murders in NYC surge for second week in a row ...  ...    1\n",
              "\n",
              "[1520 rows x 3 columns]"
            ]
          },
          "metadata": {
            "tags": []
          },
          "execution_count": 148
        }
      ]
    },
    {
      "cell_type": "markdown",
      "metadata": {
        "id": "mRBe7ia97wok",
        "colab_type": "text"
      },
      "source": [
        "## viral content"
      ]
    },
    {
      "cell_type": "code",
      "metadata": {
        "id": "y4u0IWDa3JNU",
        "colab_type": "code",
        "colab": {
          "base_uri": "https://localhost:8080/",
          "height": 1000
        },
        "outputId": "1b46360a-5fc9-493b-ce06-864016791d86"
      },
      "source": [
        "df3[df3['pred']==2]"
      ],
      "execution_count": 176,
      "outputs": [
        {
          "output_type": "execute_result",
          "data": {
            "text/html": [
              "<div>\n",
              "<style scoped>\n",
              "    .dataframe tbody tr th:only-of-type {\n",
              "        vertical-align: middle;\n",
              "    }\n",
              "\n",
              "    .dataframe tbody tr th {\n",
              "        vertical-align: top;\n",
              "    }\n",
              "\n",
              "    .dataframe thead th {\n",
              "        text-align: right;\n",
              "    }\n",
              "</style>\n",
              "<table border=\"1\" class=\"dataframe\">\n",
              "  <thead>\n",
              "    <tr style=\"text-align: right;\">\n",
              "      <th></th>\n",
              "      <th>description</th>\n",
              "      <th>text</th>\n",
              "      <th>pred</th>\n",
              "    </tr>\n",
              "    <tr>\n",
              "      <th>Unnamed: 0</th>\n",
              "      <th></th>\n",
              "      <th></th>\n",
              "      <th></th>\n",
              "    </tr>\n",
              "  </thead>\n",
              "  <tbody>\n",
              "    <tr>\n",
              "      <th>19</th>\n",
              "      <td>Is there a process for licensing content?</td>\n",
              "      <td>To license footage, please reach out to Archiv...</td>\n",
              "      <td>2</td>\n",
              "    </tr>\n",
              "    <tr>\n",
              "      <th>25</th>\n",
              "      <td>Sen. Kennedy: Early Virus Models Made Late Nig...</td>\n",
              "      <td>Louisiana Senator John Kennedy called in to th...</td>\n",
              "      <td>2</td>\n",
              "    </tr>\n",
              "    <tr>\n",
              "      <th>93</th>\n",
              "      <td>Bud Light helps raise coronavirus relief effor...</td>\n",
              "      <td>NaN</td>\n",
              "      <td>2</td>\n",
              "    </tr>\n",
              "    <tr>\n",
              "      <th>261</th>\n",
              "      <td>Bud Light helps raise coronavirus relief effor...</td>\n",
              "      <td>NaN</td>\n",
              "      <td>2</td>\n",
              "    </tr>\n",
              "    <tr>\n",
              "      <th>401</th>\n",
              "      <td>Is there a process for licensing content?</td>\n",
              "      <td>To license footage, please reach out to Archiv...</td>\n",
              "      <td>2</td>\n",
              "    </tr>\n",
              "    <tr>\n",
              "      <th>407</th>\n",
              "      <td>Sen. Kennedy: Early Virus Models Made Late Nig...</td>\n",
              "      <td>Louisiana Senator John Kennedy called in to th...</td>\n",
              "      <td>2</td>\n",
              "    </tr>\n",
              "    <tr>\n",
              "      <th>444</th>\n",
              "      <td>Is there a process for licensing content?</td>\n",
              "      <td>To license footage, please reach out to Archiv...</td>\n",
              "      <td>2</td>\n",
              "    </tr>\n",
              "    <tr>\n",
              "      <th>488</th>\n",
              "      <td>Bud Light helps raise coronavirus relief effor...</td>\n",
              "      <td>NaN</td>\n",
              "      <td>2</td>\n",
              "    </tr>\n",
              "    <tr>\n",
              "      <th>647</th>\n",
              "      <td>A Tiger King Investigation with Nancy Grace: S...</td>\n",
              "      <td>NaN</td>\n",
              "      <td>2</td>\n",
              "    </tr>\n",
              "    <tr>\n",
              "      <th>687</th>\n",
              "      <td>Cameron Diaz gushes about husband Benji Madden...</td>\n",
              "      <td>Cameron Diaz couldn't have been cuter while ta...</td>\n",
              "      <td>2</td>\n",
              "    </tr>\n",
              "    <tr>\n",
              "      <th>690</th>\n",
              "      <td>‘Bewitched’ star Erin Murphy reveals how quara...</td>\n",
              "      <td>Get all the latest news on coronavirus and mor...</td>\n",
              "      <td>2</td>\n",
              "    </tr>\n",
              "    <tr>\n",
              "      <th>734</th>\n",
              "      <td>Coronavirus relief: Twitter users shout out fa...</td>\n",
              "      <td>Get all the latest news on coronavirus and mor...</td>\n",
              "      <td>2</td>\n",
              "    </tr>\n",
              "    <tr>\n",
              "      <th>757</th>\n",
              "      <td>Global movement to pray for health care worker...</td>\n",
              "      <td>Get all the latest news on coronavirus and mor...</td>\n",
              "      <td>2</td>\n",
              "    </tr>\n",
              "    <tr>\n",
              "      <th>759</th>\n",
              "      <td>Georgia state senator's 'second chance at life...</td>\n",
              "      <td>Get all the latest news on coronavirus and mor...</td>\n",
              "      <td>2</td>\n",
              "    </tr>\n",
              "    <tr>\n",
              "      <th>767</th>\n",
              "      <td>Global movement to pray for health care worker...</td>\n",
              "      <td>Get all the latest news on coronavirus and mor...</td>\n",
              "      <td>2</td>\n",
              "    </tr>\n",
              "    <tr>\n",
              "      <th>769</th>\n",
              "      <td>Georgia state senator's 'second chance at life...</td>\n",
              "      <td>Get all the latest news on coronavirus and mor...</td>\n",
              "      <td>2</td>\n",
              "    </tr>\n",
              "    <tr>\n",
              "      <th>770</th>\n",
              "      <td>Justice with Judge Jeanine - Saturday, April 25</td>\n",
              "      <td>NaN</td>\n",
              "      <td>2</td>\n",
              "    </tr>\n",
              "    <tr>\n",
              "      <th>773</th>\n",
              "      <td>Martina McBride mourns mother in loving Instag...</td>\n",
              "      <td>It's been a rough few days for Martina McBride...</td>\n",
              "      <td>2</td>\n",
              "    </tr>\n",
              "    <tr>\n",
              "      <th>820</th>\n",
              "      <td>Is there a process for licensing content?</td>\n",
              "      <td>To license footage, please reach out to Archiv...</td>\n",
              "      <td>2</td>\n",
              "    </tr>\n",
              "    <tr>\n",
              "      <th>864</th>\n",
              "      <td>Bud Light helps raise coronavirus relief effor...</td>\n",
              "      <td>NaN</td>\n",
              "      <td>2</td>\n",
              "    </tr>\n",
              "    <tr>\n",
              "      <th>1023</th>\n",
              "      <td>A Tiger King Investigation with Nancy Grace: S...</td>\n",
              "      <td>NaN</td>\n",
              "      <td>2</td>\n",
              "    </tr>\n",
              "    <tr>\n",
              "      <th>1063</th>\n",
              "      <td>Cameron Diaz gushes about husband Benji Madden...</td>\n",
              "      <td>Cameron Diaz couldn't have been cuter while ta...</td>\n",
              "      <td>2</td>\n",
              "    </tr>\n",
              "    <tr>\n",
              "      <th>1066</th>\n",
              "      <td>‘Bewitched’ star Erin Murphy reveals how quara...</td>\n",
              "      <td>Get all the latest news on coronavirus and mor...</td>\n",
              "      <td>2</td>\n",
              "    </tr>\n",
              "    <tr>\n",
              "      <th>1111</th>\n",
              "      <td>Coronavirus relief: Twitter users shout out fa...</td>\n",
              "      <td>Get all the latest news on coronavirus and mor...</td>\n",
              "      <td>2</td>\n",
              "    </tr>\n",
              "    <tr>\n",
              "      <th>1134</th>\n",
              "      <td>Global movement to pray for health care worker...</td>\n",
              "      <td>Get all the latest news on coronavirus and mor...</td>\n",
              "      <td>2</td>\n",
              "    </tr>\n",
              "    <tr>\n",
              "      <th>1136</th>\n",
              "      <td>Georgia state senator's 'second chance at life...</td>\n",
              "      <td>Get all the latest news on coronavirus and mor...</td>\n",
              "      <td>2</td>\n",
              "    </tr>\n",
              "    <tr>\n",
              "      <th>1144</th>\n",
              "      <td>Global movement to pray for health care worker...</td>\n",
              "      <td>Get all the latest news on coronavirus and mor...</td>\n",
              "      <td>2</td>\n",
              "    </tr>\n",
              "    <tr>\n",
              "      <th>1146</th>\n",
              "      <td>Georgia state senator's 'second chance at life...</td>\n",
              "      <td>Get all the latest news on coronavirus and mor...</td>\n",
              "      <td>2</td>\n",
              "    </tr>\n",
              "    <tr>\n",
              "      <th>1147</th>\n",
              "      <td>Justice with Judge Jeanine - Saturday, April 25</td>\n",
              "      <td>NaN</td>\n",
              "      <td>2</td>\n",
              "    </tr>\n",
              "    <tr>\n",
              "      <th>1150</th>\n",
              "      <td>Martina McBride mourns mother in loving Instag...</td>\n",
              "      <td>It's been a rough few days for Martina McBride...</td>\n",
              "      <td>2</td>\n",
              "    </tr>\n",
              "    <tr>\n",
              "      <th>1218</th>\n",
              "      <td>Bud Light helps raise coronavirus relief effor...</td>\n",
              "      <td>NaN</td>\n",
              "      <td>2</td>\n",
              "    </tr>\n",
              "    <tr>\n",
              "      <th>1378</th>\n",
              "      <td>A Tiger King Investigation with Nancy Grace: S...</td>\n",
              "      <td>NaN</td>\n",
              "      <td>2</td>\n",
              "    </tr>\n",
              "    <tr>\n",
              "      <th>1391</th>\n",
              "      <td>Quarantine cravings: Grubhub reports most popu...</td>\n",
              "      <td>Get all the latest news on coronavirus and mor...</td>\n",
              "      <td>2</td>\n",
              "    </tr>\n",
              "    <tr>\n",
              "      <th>1423</th>\n",
              "      <td>Cameron Diaz gushes about husband Benji Madden...</td>\n",
              "      <td>Cameron Diaz couldn't have been cuter while ta...</td>\n",
              "      <td>2</td>\n",
              "    </tr>\n",
              "    <tr>\n",
              "      <th>1426</th>\n",
              "      <td>‘Bewitched’ star Erin Murphy reveals how quara...</td>\n",
              "      <td>Get all the latest news on coronavirus and mor...</td>\n",
              "      <td>2</td>\n",
              "    </tr>\n",
              "    <tr>\n",
              "      <th>1469</th>\n",
              "      <td>Coronavirus relief: Twitter users shout out fa...</td>\n",
              "      <td>Get all the latest news on coronavirus and mor...</td>\n",
              "      <td>2</td>\n",
              "    </tr>\n",
              "    <tr>\n",
              "      <th>1493</th>\n",
              "      <td>Global movement to pray for health care worker...</td>\n",
              "      <td>Get all the latest news on coronavirus and mor...</td>\n",
              "      <td>2</td>\n",
              "    </tr>\n",
              "    <tr>\n",
              "      <th>1495</th>\n",
              "      <td>Georgia state senator's 'second chance at life...</td>\n",
              "      <td>Get all the latest news on coronavirus and mor...</td>\n",
              "      <td>2</td>\n",
              "    </tr>\n",
              "    <tr>\n",
              "      <th>1503</th>\n",
              "      <td>Global movement to pray for health care worker...</td>\n",
              "      <td>Get all the latest news on coronavirus and mor...</td>\n",
              "      <td>2</td>\n",
              "    </tr>\n",
              "    <tr>\n",
              "      <th>1505</th>\n",
              "      <td>Georgia state senator's 'second chance at life...</td>\n",
              "      <td>Get all the latest news on coronavirus and mor...</td>\n",
              "      <td>2</td>\n",
              "    </tr>\n",
              "    <tr>\n",
              "      <th>1506</th>\n",
              "      <td>Justice with Judge Jeanine - Saturday, April 25</td>\n",
              "      <td>NaN</td>\n",
              "      <td>2</td>\n",
              "    </tr>\n",
              "    <tr>\n",
              "      <th>1509</th>\n",
              "      <td>Martina McBride mourns mother in loving Instag...</td>\n",
              "      <td>It's been a rough few days for Martina McBride...</td>\n",
              "      <td>2</td>\n",
              "    </tr>\n",
              "  </tbody>\n",
              "</table>\n",
              "</div>"
            ],
            "text/plain": [
              "                                                  description  ... pred\n",
              "Unnamed: 0                                                     ...     \n",
              "19                  Is there a process for licensing content?  ...    2\n",
              "25          Sen. Kennedy: Early Virus Models Made Late Nig...  ...    2\n",
              "93          Bud Light helps raise coronavirus relief effor...  ...    2\n",
              "261         Bud Light helps raise coronavirus relief effor...  ...    2\n",
              "401                 Is there a process for licensing content?  ...    2\n",
              "407         Sen. Kennedy: Early Virus Models Made Late Nig...  ...    2\n",
              "444                 Is there a process for licensing content?  ...    2\n",
              "488         Bud Light helps raise coronavirus relief effor...  ...    2\n",
              "647         A Tiger King Investigation with Nancy Grace: S...  ...    2\n",
              "687         Cameron Diaz gushes about husband Benji Madden...  ...    2\n",
              "690         ‘Bewitched’ star Erin Murphy reveals how quara...  ...    2\n",
              "734         Coronavirus relief: Twitter users shout out fa...  ...    2\n",
              "757         Global movement to pray for health care worker...  ...    2\n",
              "759         Georgia state senator's 'second chance at life...  ...    2\n",
              "767         Global movement to pray for health care worker...  ...    2\n",
              "769         Georgia state senator's 'second chance at life...  ...    2\n",
              "770           Justice with Judge Jeanine - Saturday, April 25  ...    2\n",
              "773         Martina McBride mourns mother in loving Instag...  ...    2\n",
              "820                 Is there a process for licensing content?  ...    2\n",
              "864         Bud Light helps raise coronavirus relief effor...  ...    2\n",
              "1023        A Tiger King Investigation with Nancy Grace: S...  ...    2\n",
              "1063        Cameron Diaz gushes about husband Benji Madden...  ...    2\n",
              "1066        ‘Bewitched’ star Erin Murphy reveals how quara...  ...    2\n",
              "1111        Coronavirus relief: Twitter users shout out fa...  ...    2\n",
              "1134        Global movement to pray for health care worker...  ...    2\n",
              "1136        Georgia state senator's 'second chance at life...  ...    2\n",
              "1144        Global movement to pray for health care worker...  ...    2\n",
              "1146        Georgia state senator's 'second chance at life...  ...    2\n",
              "1147          Justice with Judge Jeanine - Saturday, April 25  ...    2\n",
              "1150        Martina McBride mourns mother in loving Instag...  ...    2\n",
              "1218        Bud Light helps raise coronavirus relief effor...  ...    2\n",
              "1378        A Tiger King Investigation with Nancy Grace: S...  ...    2\n",
              "1391        Quarantine cravings: Grubhub reports most popu...  ...    2\n",
              "1423        Cameron Diaz gushes about husband Benji Madden...  ...    2\n",
              "1426        ‘Bewitched’ star Erin Murphy reveals how quara...  ...    2\n",
              "1469        Coronavirus relief: Twitter users shout out fa...  ...    2\n",
              "1493        Global movement to pray for health care worker...  ...    2\n",
              "1495        Georgia state senator's 'second chance at life...  ...    2\n",
              "1503        Global movement to pray for health care worker...  ...    2\n",
              "1505        Georgia state senator's 'second chance at life...  ...    2\n",
              "1506          Justice with Judge Jeanine - Saturday, April 25  ...    2\n",
              "1509        Martina McBride mourns mother in loving Instag...  ...    2\n",
              "\n",
              "[42 rows x 3 columns]"
            ]
          },
          "metadata": {
            "tags": []
          },
          "execution_count": 176
        }
      ]
    },
    {
      "cell_type": "code",
      "metadata": {
        "id": "rMzqT87k3dpu",
        "colab_type": "code",
        "colab": {
          "base_uri": "https://localhost:8080/",
          "height": 34
        },
        "outputId": "e734b242-56f2-47f5-dfb6-4c5d73b1e88d"
      },
      "source": [
        "list(le.classes_)"
      ],
      "execution_count": 158,
      "outputs": [
        {
          "output_type": "execute_result",
          "data": {
            "text/plain": [
              "[0, 1, 2]"
            ]
          },
          "metadata": {
            "tags": []
          },
          "execution_count": 158
        }
      ]
    },
    {
      "cell_type": "code",
      "metadata": {
        "id": "tp-rfezx3jO8",
        "colab_type": "code",
        "colab": {}
      },
      "source": [
        "le_name_mapping = dict(zip(le.classes_, le.transform(le.classes_)))"
      ],
      "execution_count": 0,
      "outputs": []
    },
    {
      "cell_type": "code",
      "metadata": {
        "id": "MkNI9S625C-v",
        "colab_type": "code",
        "colab": {
          "base_uri": "https://localhost:8080/",
          "height": 34
        },
        "outputId": "0ce96d2f-e183-4a9a-d500-8e5b3d027140"
      },
      "source": [
        "le_name_mapping"
      ],
      "execution_count": 175,
      "outputs": [
        {
          "output_type": "execute_result",
          "data": {
            "text/plain": [
              "{'neg': 0, 'neu': 1, 'pos': 2}"
            ]
          },
          "metadata": {
            "tags": []
          },
          "execution_count": 175
        }
      ]
    },
    {
      "cell_type": "code",
      "metadata": {
        "id": "Oqeohngy5EzP",
        "colab_type": "code",
        "colab": {}
      },
      "source": [
        ""
      ],
      "execution_count": 0,
      "outputs": []
    }
  ]
}